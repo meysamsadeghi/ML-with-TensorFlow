{
 "cells": [
  {
   "cell_type": "markdown",
   "metadata": {},
   "source": [
    "# MNIST dataset\n",
    "The MNIST database of handwritten digits, available from this __[Page](http://yann.lecun.com/exdb/mnist/)__, has a training set of 60,000 examples, and a test set of 10,000 examples. The digits have been size-normalized and centered in a fixed-size image (28$\\times$28 pixels where each pixel has a value within the interval [0,1]). Let us load the mnist.\n",
    "\n",
    "There are two ways for loading MNIST dataset, each of which has its own benefits and drawbacks. In future I should make my mind and find the best way. Below re the details."
   ]
  },
  {
   "cell_type": "code",
   "execution_count": 1,
   "metadata": {},
   "outputs": [],
   "source": [
    "import matplotlib.pyplot as plt # we need later\n",
    "import numpy as np"
   ]
  },
  {
   "cell_type": "markdown",
   "metadata": {},
   "source": [
    "## First Method for Loading MNIST\n",
    "The first method for loading mnist uses **from tensorflow.examples.tutorials.mnist import input_data** command. The main issue with this approach is that it is depracted and show you warnings. So one work around (which I dont like) is to use *tf.logging* to prevent the warnings to be shown, howevere they are under the hood and it does not solve the problem.\n",
    "\n",
    "**Then what is the benefit?** The main benefit is that the object made by this way has *next_batch()* method than automatically handles the mini-batch tarining, i.e.,  it automatically handles partitioning of the input data into batches and also data shuffling. \n",
    "\n",
    "Below we can see how to use it. "
   ]
  },
  {
   "cell_type": "code",
   "execution_count": 2,
   "metadata": {
    "scrolled": true
   },
   "outputs": [
    {
     "name": "stdout",
     "output_type": "stream",
     "text": [
      "Extracting /tmp/data/train-images-idx3-ubyte.gz\n",
      "Extracting /tmp/data/train-labels-idx1-ubyte.gz\n",
      "Extracting /tmp/data/t10k-images-idx3-ubyte.gz\n",
      "Extracting /tmp/data/t10k-labels-idx1-ubyte.gz\n"
     ]
    }
   ],
   "source": [
    "import tensorflow as tf\n",
    "old_v = tf.logging.get_verbosity()\n",
    "tf.logging.set_verbosity(tf.logging.ERROR)\n",
    "from tensorflow.examples.tutorials.mnist import input_data\n",
    "mnist = input_data.read_data_sets(\"/tmp/data/\", one_hot=True)\n",
    "\n",
    "# Load data\n",
    "X_train = mnist.train.images\n",
    "Y_train = mnist.train.labels\n",
    "X_validation = mnist.validation.images\n",
    "Y_validation = mnist.validation.labels\n",
    "X_test = mnist.test.images\n",
    "Y_test = mnist.test.labels"
   ]
  },
  {
   "cell_type": "markdown",
   "metadata": {},
   "source": [
    "The **next_batch()** methodcan be used as follows:"
   ]
  },
  {
   "cell_type": "code",
   "execution_count": null,
   "metadata": {},
   "outputs": [],
   "source": [
    "# Get the next batch_size images array and labels\n",
    "# batch_X, batch_Y = mnist.train.next_batch(batch_size)"
   ]
  },
  {
   "cell_type": "markdown",
   "metadata": {},
   "source": [
    "## Second Method for Loading MNIST\n",
    "The second method is the suggested way by official tensorflow __[webpage](https://www.tensorflow.org/tutorials/)__, which suggests using **mnist = tf.keras.datasets.mnist**. Its benefit is that it is up to date and the official way. But the major drawback is that it does not have something like the *netxbatch()* method and I think one should write it himself (I am not sure, there might be a way)."
   ]
  },
  {
   "cell_type": "code",
   "execution_count": 3,
   "metadata": {},
   "outputs": [],
   "source": [
    "import tensorflow as tf\n",
    "MNIST = tf.keras.datasets.mnist\n",
    "(x_train, y_train),(x_test, y_test) = MNIST.load_data(path='/home/meysam/github/Datasets/mnist/mnist.npz')\n",
    "# if you dont have the data downloaded\n",
    "#(x_train, y_train),(x_test, y_test) = mnist.load_data()\n",
    "x_train, x_test = x_train / 255.0, x_test / 255.0"
   ]
  },
  {
   "cell_type": "markdown",
   "metadata": {},
   "source": [
    "Note that in this case, y_train and y_test are not one_hot encoded. Then either you should turn them into one_hot by your own function, or use tf.Keras as tensorflow tutorial, or you can use *tensorflow.python.keras._impl.keras.utils* to do one_hot encoding as shown below."
   ]
  },
  {
   "cell_type": "code",
   "execution_count": 4,
   "metadata": {},
   "outputs": [],
   "source": [
    "from tensorflow.python.keras._impl.keras.utils import np_utils # Note <from tensorflow.keras.utils import np_utils> does not work and this is just a work around. See https://github.com/tensorflow/tensorflow/issues/14008\n",
    "# one hot encode outputs\n",
    "y_train = np_utils.to_categorical(y_train)\n",
    "y_test = np_utils.to_categorical(y_test)\n",
    "num_classes = y_test.shape[1]"
   ]
  },
  {
   "cell_type": "markdown",
   "metadata": {},
   "source": [
    "# Important Difference Between Two Approaches in Terms of Data Dimenssion\n",
    "\n",
    "The first method split the data into three groups:\n",
    "- Train (55K, 784)\n",
    "- Validation (5K, 784)\n",
    "- Test (10K, 784)\n",
    "\n",
    "The second approach split the data into two groups:\n",
    "- Train (60K, 28, 28)\n",
    "- Test (10K, 28, 28)"
   ]
  },
  {
   "cell_type": "code",
   "execution_count": 5,
   "metadata": {},
   "outputs": [
    {
     "name": "stdout",
     "output_type": "stream",
     "text": [
      "First Approach:\n",
      "X_train.shape: (55000, 784)\n",
      "Y_train.shape: (55000, 10)\n",
      "X_validation.shape: (5000, 784)\n",
      "X_validation.shape: (5000, 784)\n",
      "X_test.shape: (10000, 784)\n",
      "Y_test.shape: (10000, 10)\n",
      "\n",
      "Second Approach:\n",
      "x_train.shape: (60000, 28, 28)\n",
      "y_train.shape: (60000, 10)\n",
      "x_test.shape: (10000, 28, 28)\n",
      "y_test.shape: (10000, 10)\n"
     ]
    }
   ],
   "source": [
    "print('First Approach:')\n",
    "print('X_train.shape:', X_train.shape)\n",
    "print('Y_train.shape:', Y_train.shape)\n",
    "print('X_validation.shape:', X_validation.shape)\n",
    "print('X_validation.shape:', X_validation.shape)\n",
    "print('X_test.shape:', X_test.shape)\n",
    "print('Y_test.shape:', Y_test.shape)\n",
    "\n",
    "print('\\nSecond Approach:')\n",
    "print('x_train.shape:', x_train.shape)\n",
    "print('y_train.shape:', y_train.shape)\n",
    "print('x_test.shape:', x_test.shape)\n",
    "print('y_test.shape:', y_test.shape)"
   ]
  },
  {
   "cell_type": "markdown",
   "metadata": {},
   "source": [
    "# Plotting MNIST \n",
    "let us define a function for ploting mnist images and their class label, in a grid with desired size."
   ]
  },
  {
   "cell_type": "code",
   "execution_count": 6,
   "metadata": {},
   "outputs": [],
   "source": [
    "def plot_func(grid_heigh,grid_width,images,lables,ShowLabel=None,ShowPred=None,Pred=None):\n",
    "    assert images.shape[0] == (grid_heigh*grid_width)\n",
    "    assert images.shape[0] == lables.shape[0]\n",
    "    if Pred is not None:\n",
    "        assert lables.shape[0] == Pred.shape[0]\n",
    "    figs, axes = plt.subplots(nrows=grid_heigh, ncols=grid_width)\n",
    "    figs.subplots_adjust(hspace=0.3, wspace=0.2)\n",
    "    for index,ax in enumerate(axes.flat): # axes.flat is required as axes has grid structure\n",
    "        ax.imshow(images[index], cmap='gray')\n",
    "        if ShowLabel:\n",
    "            ax.set_xlabel('label:{0}'.format(lables[index]))\n",
    "        if ShowPred:\n",
    "            ax.set_xlabel('label:{0}, Pred:{1}'.format(lables[index],Pred[index]))\n",
    "        ax.set_xticks([])\n",
    "        ax.set_yticks([])\n",
    "    plt.show()"
   ]
  },
  {
   "cell_type": "code",
   "execution_count": 7,
   "metadata": {},
   "outputs": [
    {
     "data": {
      "image/png": "[encoded data removed]",
      "text/plain": [
       "<Figure size 432x288 with 2 Axes>"
      ]
     },
     "metadata": {},
     "output_type": "display_data"
    }
   ],
   "source": [
    "plot_func(1,2,x_test[0:2],y_test[0:2],ShowLabel=True,ShowPred=None,Pred=None)"
   ]
  },
  {
   "cell_type": "markdown",
   "metadata": {},
   "source": [
    "Note that the **plot_func** is written for the second approach and to be used for first approach we need to revise the X shape from 784 to 28x28, and Y from 10 to 1, as below."
   ]
  },
  {
   "cell_type": "code",
   "execution_count": 8,
   "metadata": {},
   "outputs": [
    {
     "data": {
      "image/png": "[encoded data removed]",
      "text/plain": [
       "<Figure size 432x288 with 2 Axes>"
      ]
     },
     "metadata": {},
     "output_type": "display_data"
    }
   ],
   "source": [
    "plot_func(1,2,X_test[0:2].reshape([-1,28,28]),np.argmax(Y_test[0:2],1),ShowLabel=True,ShowPred=None,Pred=None)"
   ]
  },
  {
   "cell_type": "code",
   "execution_count": null,
   "metadata": {},
   "outputs": [],
   "source": []
  }
 ],
 "metadata": {
  "kernelspec": {
   "display_name": "Python 3",
   "language": "python",
   "name": "python3"
  },
  "language_info": {
   "codemirror_mode": {
    "name": "ipython",
    "version": 3
   },
   "file_extension": ".py",
   "mimetype": "text/x-python",
   "name": "python",
   "nbconvert_exporter": "python",
   "pygments_lexer": "ipython3",
   "version": "3.6.6"
  }
 },
 "nbformat": 4,
 "nbformat_minor": 2
}
